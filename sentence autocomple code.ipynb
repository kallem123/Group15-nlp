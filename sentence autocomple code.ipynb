{
  "cells": [
    {
      "cell_type": "markdown",
      "source": [
        "**Firstly, Setup the runtime as GPU**\n",
        "\n",
        "\n",
        "\n",
        "\n",
        "\n"
      ],
      "metadata": {
        "id": "9ZbUfDspGTMD"
      }
    },
    {
      "cell_type": "code",
      "execution_count": 2,
      "metadata": {
        "id": "snwbYwkYH3qE"
      },
      "outputs": [],
      "source": [
        "import tensorflow as tf\n",
        "from tensorflow.keras.preprocessing.text import Tokenizer\n",
        "from tensorflow.keras.layers import Embedding, LSTM, Dense\n",
        "from tensorflow.keras.models import Sequential\n",
        "from tensorflow.keras.utils import to_categorical\n",
        "from tensorflow.keras.optimizers import Adam\n",
        "import pickle\n",
        "import numpy as np\n",
        "import os"
      ]
    },
    {
      "cell_type": "code",
      "execution_count": 3,
      "metadata": {
        "colab": {
          "base_uri": "https://localhost:8080/",
          "height": 73
        },
        "id": "MrLyjQ0MH8E3",
        "outputId": "04faf917-e098-4b4c-c37e-a6c7028ef303"
      },
      "outputs": [
        {
          "output_type": "display_data",
          "data": {
            "text/plain": [
              "<IPython.core.display.HTML object>"
            ],
            "text/html": [
              "\n",
              "     <input type=\"file\" id=\"files-683e4940-fb01-451c-a457-f7189e40c124\" name=\"files[]\" multiple disabled\n",
              "        style=\"border:none\" />\n",
              "     <output id=\"result-683e4940-fb01-451c-a457-f7189e40c124\">\n",
              "      Upload widget is only available when the cell has been executed in the\n",
              "      current browser session. Please rerun this cell to enable.\n",
              "      </output>\n",
              "      <script>// Copyright 2017 Google LLC\n",
              "//\n",
              "// Licensed under the Apache License, Version 2.0 (the \"License\");\n",
              "// you may not use this file except in compliance with the License.\n",
              "// You may obtain a copy of the License at\n",
              "//\n",
              "//      http://www.apache.org/licenses/LICENSE-2.0\n",
              "//\n",
              "// Unless required by applicable law or agreed to in writing, software\n",
              "// distributed under the License is distributed on an \"AS IS\" BASIS,\n",
              "// WITHOUT WARRANTIES OR CONDITIONS OF ANY KIND, either express or implied.\n",
              "// See the License for the specific language governing permissions and\n",
              "// limitations under the License.\n",
              "\n",
              "/**\n",
              " * @fileoverview Helpers for google.colab Python module.\n",
              " */\n",
              "(function(scope) {\n",
              "function span(text, styleAttributes = {}) {\n",
              "  const element = document.createElement('span');\n",
              "  element.textContent = text;\n",
              "  for (const key of Object.keys(styleAttributes)) {\n",
              "    element.style[key] = styleAttributes[key];\n",
              "  }\n",
              "  return element;\n",
              "}\n",
              "\n",
              "// Max number of bytes which will be uploaded at a time.\n",
              "const MAX_PAYLOAD_SIZE = 100 * 1024;\n",
              "\n",
              "function _uploadFiles(inputId, outputId) {\n",
              "  const steps = uploadFilesStep(inputId, outputId);\n",
              "  const outputElement = document.getElementById(outputId);\n",
              "  // Cache steps on the outputElement to make it available for the next call\n",
              "  // to uploadFilesContinue from Python.\n",
              "  outputElement.steps = steps;\n",
              "\n",
              "  return _uploadFilesContinue(outputId);\n",
              "}\n",
              "\n",
              "// This is roughly an async generator (not supported in the browser yet),\n",
              "// where there are multiple asynchronous steps and the Python side is going\n",
              "// to poll for completion of each step.\n",
              "// This uses a Promise to block the python side on completion of each step,\n",
              "// then passes the result of the previous step as the input to the next step.\n",
              "function _uploadFilesContinue(outputId) {\n",
              "  const outputElement = document.getElementById(outputId);\n",
              "  const steps = outputElement.steps;\n",
              "\n",
              "  const next = steps.next(outputElement.lastPromiseValue);\n",
              "  return Promise.resolve(next.value.promise).then((value) => {\n",
              "    // Cache the last promise value to make it available to the next\n",
              "    // step of the generator.\n",
              "    outputElement.lastPromiseValue = value;\n",
              "    return next.value.response;\n",
              "  });\n",
              "}\n",
              "\n",
              "/**\n",
              " * Generator function which is called between each async step of the upload\n",
              " * process.\n",
              " * @param {string} inputId Element ID of the input file picker element.\n",
              " * @param {string} outputId Element ID of the output display.\n",
              " * @return {!Iterable<!Object>} Iterable of next steps.\n",
              " */\n",
              "function* uploadFilesStep(inputId, outputId) {\n",
              "  const inputElement = document.getElementById(inputId);\n",
              "  inputElement.disabled = false;\n",
              "\n",
              "  const outputElement = document.getElementById(outputId);\n",
              "  outputElement.innerHTML = '';\n",
              "\n",
              "  const pickedPromise = new Promise((resolve) => {\n",
              "    inputElement.addEventListener('change', (e) => {\n",
              "      resolve(e.target.files);\n",
              "    });\n",
              "  });\n",
              "\n",
              "  const cancel = document.createElement('button');\n",
              "  inputElement.parentElement.appendChild(cancel);\n",
              "  cancel.textContent = 'Cancel upload';\n",
              "  const cancelPromise = new Promise((resolve) => {\n",
              "    cancel.onclick = () => {\n",
              "      resolve(null);\n",
              "    };\n",
              "  });\n",
              "\n",
              "  // Wait for the user to pick the files.\n",
              "  const files = yield {\n",
              "    promise: Promise.race([pickedPromise, cancelPromise]),\n",
              "    response: {\n",
              "      action: 'starting',\n",
              "    }\n",
              "  };\n",
              "\n",
              "  cancel.remove();\n",
              "\n",
              "  // Disable the input element since further picks are not allowed.\n",
              "  inputElement.disabled = true;\n",
              "\n",
              "  if (!files) {\n",
              "    return {\n",
              "      response: {\n",
              "        action: 'complete',\n",
              "      }\n",
              "    };\n",
              "  }\n",
              "\n",
              "  for (const file of files) {\n",
              "    const li = document.createElement('li');\n",
              "    li.append(span(file.name, {fontWeight: 'bold'}));\n",
              "    li.append(span(\n",
              "        `(${file.type || 'n/a'}) - ${file.size} bytes, ` +\n",
              "        `last modified: ${\n",
              "            file.lastModifiedDate ? file.lastModifiedDate.toLocaleDateString() :\n",
              "                                    'n/a'} - `));\n",
              "    const percent = span('0% done');\n",
              "    li.appendChild(percent);\n",
              "\n",
              "    outputElement.appendChild(li);\n",
              "\n",
              "    const fileDataPromise = new Promise((resolve) => {\n",
              "      const reader = new FileReader();\n",
              "      reader.onload = (e) => {\n",
              "        resolve(e.target.result);\n",
              "      };\n",
              "      reader.readAsArrayBuffer(file);\n",
              "    });\n",
              "    // Wait for the data to be ready.\n",
              "    let fileData = yield {\n",
              "      promise: fileDataPromise,\n",
              "      response: {\n",
              "        action: 'continue',\n",
              "      }\n",
              "    };\n",
              "\n",
              "    // Use a chunked sending to avoid message size limits. See b/62115660.\n",
              "    let position = 0;\n",
              "    do {\n",
              "      const length = Math.min(fileData.byteLength - position, MAX_PAYLOAD_SIZE);\n",
              "      const chunk = new Uint8Array(fileData, position, length);\n",
              "      position += length;\n",
              "\n",
              "      const base64 = btoa(String.fromCharCode.apply(null, chunk));\n",
              "      yield {\n",
              "        response: {\n",
              "          action: 'append',\n",
              "          file: file.name,\n",
              "          data: base64,\n",
              "        },\n",
              "      };\n",
              "\n",
              "      let percentDone = fileData.byteLength === 0 ?\n",
              "          100 :\n",
              "          Math.round((position / fileData.byteLength) * 100);\n",
              "      percent.textContent = `${percentDone}% done`;\n",
              "\n",
              "    } while (position < fileData.byteLength);\n",
              "  }\n",
              "\n",
              "  // All done.\n",
              "  yield {\n",
              "    response: {\n",
              "      action: 'complete',\n",
              "    }\n",
              "  };\n",
              "}\n",
              "\n",
              "scope.google = scope.google || {};\n",
              "scope.google.colab = scope.google.colab || {};\n",
              "scope.google.colab._files = {\n",
              "  _uploadFiles,\n",
              "  _uploadFilesContinue,\n",
              "};\n",
              "})(self);\n",
              "</script> "
            ]
          },
          "metadata": {}
        },
        {
          "output_type": "stream",
          "name": "stdout",
          "text": [
            "Saving pride and prejudice.txt to pride and prejudice.txt\n"
          ]
        }
      ],
      "source": [
        "from google.colab import files\n",
        "uploaded = files.upload()"
      ]
    },
    {
      "cell_type": "code",
      "execution_count": 5,
      "metadata": {
        "colab": {
          "base_uri": "https://localhost:8080/",
          "height": 70
        },
        "id": "GTbzCW4KJl-V",
        "outputId": "508fa817-f5df-4cdc-d4e7-028958c18cff"
      },
      "outputs": [
        {
          "output_type": "execute_result",
          "data": {
            "text/plain": [
              "'The Project Gutenberg eBook of Pride and Prejudice This ebook is for the use of anyone anywhere in the United States and most other parts of the world at no cost and with almost no restrictions whatsoever. You may copy it, give it away or re-use it under the terms of the Project Gutenberg License included with this ebook or online at www.gutenberg.org. If you are not located in the United States, you will have to check the laws of the country where you are located before using this eBook. Title:'"
            ],
            "application/vnd.google.colaboratory.intrinsic+json": {
              "type": "string"
            }
          },
          "metadata": {},
          "execution_count": 5
        }
      ],
      "source": [
        "file = open(\"pride and prejudice.txt\", \"r\", encoding = \"utf8\")\n",
        "lines = []\n",
        "for i in file:\n",
        "    lines.append(i)\n",
        "data = \"\"\n",
        "for i in lines:\n",
        "  data = ' '. join(lines)\n",
        "data = data.replace('\\n', '').replace('\\r', '').replace('\\ufeff', '').replace('“','').replace('”','')  #new line, carriage return, unicode character --> replace by space\n",
        "data = data.split()\n",
        "data = ' '.join(data)\n",
        "data[:500]"
      ]
    },
    {
      "cell_type": "code",
      "execution_count": 6,
      "metadata": {
        "colab": {
          "base_uri": "https://localhost:8080/"
        },
        "id": "D0RLyXXhKCOx",
        "outputId": "88a84121-9eb6-4f81-953c-ca2413288909"
      },
      "outputs": [
        {
          "output_type": "execute_result",
          "data": {
            "text/plain": [
              "733690"
            ]
          },
          "metadata": {},
          "execution_count": 6
        }
      ],
      "source": [
        "len(data)"
      ]
    },
    {
      "cell_type": "code",
      "execution_count": 7,
      "metadata": {
        "colab": {
          "base_uri": "https://localhost:8080/"
        },
        "id": "x0Da8CO6KO3x",
        "outputId": "a64c207c-8207-4dc4-bca8-576047104a11"
      },
      "outputs": [
        {
          "output_type": "stream",
          "name": "stdout",
          "text": [
            "7254\n",
            "The Length of sequences are:  131175\n",
            "Data:  [[   1  181  390]\n",
            " [ 181  390 1000]\n",
            " [ 390 1000    3]\n",
            " [1000    3  298]\n",
            " [   3  298    4]\n",
            " [ 298    4  946]\n",
            " [   4  946   41]\n",
            " [ 946   41 1000]\n",
            " [  41 1000   23]\n",
            " [1000   23   21]]\n",
            "Response:  [1000    3  298    4  946   41 1000   23   21    1]\n"
          ]
        },
        {
          "output_type": "execute_result",
          "data": {
            "text/plain": [
              "array([[0., 0., 0., ..., 0., 0., 0.],\n",
              "       [0., 0., 0., ..., 0., 0., 0.],\n",
              "       [0., 0., 0., ..., 0., 0., 0.],\n",
              "       ...,\n",
              "       [0., 0., 0., ..., 0., 0., 0.],\n",
              "       [0., 0., 0., ..., 0., 0., 0.],\n",
              "       [0., 0., 0., ..., 0., 0., 0.]], dtype=float32)"
            ]
          },
          "metadata": {},
          "execution_count": 7
        }
      ],
      "source": [
        "tokenizer = Tokenizer()\n",
        "tokenizer.fit_on_texts([data])\n",
        "pickle.dump(tokenizer, open('token.pkl', 'wb'))\n",
        "sequence_data = tokenizer.texts_to_sequences([data])[0]\n",
        "sequence_data[:15]\n",
        "len(sequence_data)\n",
        "vocab_size = len(tokenizer.word_index) + 1\n",
        "print(vocab_size)\n",
        "sequences = []\n",
        "\n",
        "for i in range(3, len(sequence_data)):\n",
        "    words = sequence_data[i-3:i+1]\n",
        "    sequences.append(words)\n",
        "\n",
        "print(\"The Length of sequences are: \", len(sequences))\n",
        "sequences = np.array(sequences)\n",
        "sequences[:10]\n",
        "X = []\n",
        "y = []\n",
        "\n",
        "for i in sequences:\n",
        "    X.append(i[0:3])\n",
        "    y.append(i[3])\n",
        "\n",
        "X = np.array(X)\n",
        "y = np.array(y)\n",
        "print(\"Data: \", X[:10])\n",
        "print(\"Response: \", y[:10])\n",
        "y = to_categorical(y, num_classes=vocab_size)\n",
        "y[:15]"
      ]
    },
    {
      "cell_type": "code",
      "execution_count": 8,
      "metadata": {
        "colab": {
          "base_uri": "https://localhost:8080/"
        },
        "id": "KxCQkh7YMGym",
        "outputId": "838886ea-3a02-46ad-9b71-74c935a5d613"
      },
      "outputs": [
        {
          "output_type": "stream",
          "name": "stdout",
          "text": [
            "Model: \"sequential\"\n",
            "_________________________________________________________________\n",
            " Layer (type)                Output Shape              Param #   \n",
            "=================================================================\n",
            " embedding (Embedding)       (None, 3, 10)             72540     \n",
            "                                                                 \n",
            " lstm (LSTM)                 (None, 3, 1000)           4044000   \n",
            "                                                                 \n",
            " lstm_1 (LSTM)               (None, 1000)              8004000   \n",
            "                                                                 \n",
            " dense (Dense)               (None, 1000)              1001000   \n",
            "                                                                 \n",
            " dense_1 (Dense)             (None, 7254)              7261254   \n",
            "                                                                 \n",
            "=================================================================\n",
            "Total params: 20382794 (77.75 MB)\n",
            "Trainable params: 20382794 (77.75 MB)\n",
            "Non-trainable params: 0 (0.00 Byte)\n",
            "_________________________________________________________________\n"
          ]
        }
      ],
      "source": [
        "model = Sequential()\n",
        "model.add(Embedding(vocab_size, 10, input_length=3))\n",
        "model.add(LSTM(1000, return_sequences=True))\n",
        "model.add(LSTM(1000))\n",
        "model.add(Dense(1000, activation=\"relu\"))\n",
        "model.add(Dense(vocab_size, activation=\"softmax\"))\n",
        "model.summary()"
      ]
    },
    {
      "cell_type": "code",
      "execution_count": 13,
      "metadata": {
        "colab": {
          "base_uri": "https://localhost:8080/"
        },
        "id": "XAoaQWVrNMPw",
        "outputId": "1b7c6728-bd7e-467b-f1ae-1554ebaba97e"
      },
      "outputs": [
        {
          "output_type": "stream",
          "name": "stdout",
          "text": [
            "Epoch 1/20\n",
            "2050/2050 [==============================] - ETA: 0s - loss: 1.5003\n",
            "Epoch 1: loss improved from inf to 1.50028, saving model to next_words.h5\n",
            "2050/2050 [==============================] - 46s 21ms/step - loss: 1.5003\n",
            "Epoch 2/20\n",
            "2050/2050 [==============================] - ETA: 0s - loss: 1.1916\n",
            "Epoch 2: loss improved from 1.50028 to 1.19161, saving model to next_words.h5\n",
            "2050/2050 [==============================] - 35s 17ms/step - loss: 1.1916\n",
            "Epoch 3/20\n",
            "2050/2050 [==============================] - ETA: 0s - loss: 1.0643\n",
            "Epoch 3: loss improved from 1.19161 to 1.06425, saving model to next_words.h5\n",
            "2050/2050 [==============================] - 36s 17ms/step - loss: 1.0643\n",
            "Epoch 4/20\n",
            "2050/2050 [==============================] - ETA: 0s - loss: 0.9687\n",
            "Epoch 4: loss improved from 1.06425 to 0.96868, saving model to next_words.h5\n",
            "2050/2050 [==============================] - 36s 18ms/step - loss: 0.9687\n",
            "Epoch 5/20\n",
            "2050/2050 [==============================] - ETA: 0s - loss: 0.8971\n",
            "Epoch 5: loss improved from 0.96868 to 0.89713, saving model to next_words.h5\n",
            "2050/2050 [==============================] - 36s 17ms/step - loss: 0.8971\n",
            "Epoch 6/20\n",
            "2050/2050 [==============================] - ETA: 0s - loss: 0.8449\n",
            "Epoch 6: loss improved from 0.89713 to 0.84493, saving model to next_words.h5\n",
            "2050/2050 [==============================] - 36s 17ms/step - loss: 0.8449\n",
            "Epoch 7/20\n",
            "2049/2050 [============================>.] - ETA: 0s - loss: 0.7975\n",
            "Epoch 7: loss improved from 0.84493 to 0.79751, saving model to next_words.h5\n",
            "2050/2050 [==============================] - 36s 18ms/step - loss: 0.7975\n",
            "Epoch 8/20\n",
            "2050/2050 [==============================] - ETA: 0s - loss: 0.7613\n",
            "Epoch 8: loss improved from 0.79751 to 0.76133, saving model to next_words.h5\n",
            "2050/2050 [==============================] - 35s 17ms/step - loss: 0.7613\n",
            "Epoch 9/20\n",
            "2050/2050 [==============================] - ETA: 0s - loss: 0.7375\n",
            "Epoch 9: loss improved from 0.76133 to 0.73747, saving model to next_words.h5\n",
            "2050/2050 [==============================] - 35s 17ms/step - loss: 0.7375\n",
            "Epoch 10/20\n",
            "2050/2050 [==============================] - ETA: 0s - loss: 0.7113\n",
            "Epoch 10: loss improved from 0.73747 to 0.71128, saving model to next_words.h5\n",
            "2050/2050 [==============================] - 35s 17ms/step - loss: 0.7113\n",
            "Epoch 11/20\n",
            "2050/2050 [==============================] - ETA: 0s - loss: 0.6909\n",
            "Epoch 11: loss improved from 0.71128 to 0.69086, saving model to next_words.h5\n",
            "2050/2050 [==============================] - 35s 17ms/step - loss: 0.6909\n",
            "Epoch 12/20\n",
            "2050/2050 [==============================] - ETA: 0s - loss: 0.6672\n",
            "Epoch 12: loss improved from 0.69086 to 0.66721, saving model to next_words.h5\n",
            "2050/2050 [==============================] - 35s 17ms/step - loss: 0.6672\n",
            "Epoch 13/20\n",
            "2050/2050 [==============================] - ETA: 0s - loss: 0.6540\n",
            "Epoch 13: loss improved from 0.66721 to 0.65399, saving model to next_words.h5\n",
            "2050/2050 [==============================] - 35s 17ms/step - loss: 0.6540\n",
            "Epoch 14/20\n",
            "2049/2050 [============================>.] - ETA: 0s - loss: 0.6370\n",
            "Epoch 14: loss improved from 0.65399 to 0.63701, saving model to next_words.h5\n",
            "2050/2050 [==============================] - 35s 17ms/step - loss: 0.6370\n",
            "Epoch 15/20\n",
            "2048/2050 [============================>.] - ETA: 0s - loss: 0.6223\n",
            "Epoch 15: loss improved from 0.63701 to 0.62235, saving model to next_words.h5\n",
            "2050/2050 [==============================] - 35s 17ms/step - loss: 0.6224\n",
            "Epoch 16/20\n",
            "2050/2050 [==============================] - ETA: 0s - loss: 0.6137\n",
            "Epoch 16: loss improved from 0.62235 to 0.61366, saving model to next_words.h5\n",
            "2050/2050 [==============================] - 35s 17ms/step - loss: 0.6137\n",
            "Epoch 17/20\n",
            "2050/2050 [==============================] - ETA: 0s - loss: 0.5993\n",
            "Epoch 17: loss improved from 0.61366 to 0.59928, saving model to next_words.h5\n",
            "2050/2050 [==============================] - 35s 17ms/step - loss: 0.5993\n",
            "Epoch 18/20\n",
            "2049/2050 [============================>.] - ETA: 0s - loss: 0.5883\n",
            "Epoch 18: loss improved from 0.59928 to 0.58834, saving model to next_words.h5\n",
            "2050/2050 [==============================] - 35s 17ms/step - loss: 0.5883\n",
            "Epoch 19/20\n",
            "2048/2050 [============================>.] - ETA: 0s - loss: 0.5806\n",
            "Epoch 19: loss improved from 0.58834 to 0.58058, saving model to next_words.h5\n",
            "2050/2050 [==============================] - 35s 17ms/step - loss: 0.5806\n",
            "Epoch 20/20\n",
            "2049/2050 [============================>.] - ETA: 0s - loss: 0.5706\n",
            "Epoch 20: loss improved from 0.58058 to 0.57066, saving model to next_words.h5\n",
            "2050/2050 [==============================] - 35s 17ms/step - loss: 0.5707\n"
          ]
        },
        {
          "output_type": "execute_result",
          "data": {
            "text/plain": [
              "<keras.src.callbacks.History at 0x783963f4eb90>"
            ]
          },
          "metadata": {},
          "execution_count": 13
        }
      ],
      "source": [
        "from tensorflow.keras.callbacks import ModelCheckpoint\n",
        "\n",
        "checkpoint = ModelCheckpoint(\"next_words.h5\", monitor='loss', verbose=1, save_best_only=True)\n",
        "model.compile(loss=\"categorical_crossentropy\", optimizer=Adam(learning_rate=0.001))\n",
        "model.fit(X, y, epochs=20, batch_size=64, callbacks=[checkpoint])"
      ]
    },
    {
      "cell_type": "code",
      "execution_count": 12,
      "metadata": {
        "id": "ddUnXmT4NRUG",
        "colab": {
          "base_uri": "https://localhost:8080/"
        },
        "outputId": "a8b29960-1b6f-407e-b686-4e6cada456f1"
      },
      "outputs": [
        {
          "output_type": "stream",
          "name": "stdout",
          "text": [
            "Enter your line: Title: Pride and Prejudice\n",
            "['Pride', 'and', 'Prejudice']\n",
            "1/1 [==============================] - 1s 868ms/step\n",
            "apology\n",
            "Enter your line: Language: English\n",
            "['Language:', 'English']\n",
            "1/1 [==============================] - 1s 615ms/step\n",
            "distance\n",
            "Enter your line: START OF THE PROJECT GUTENBERG EBOOK PRIDE AND PREJUDICE \n",
            "['AND', 'PREJUDICE', '']\n",
            "1/1 [==============================] - 0s 19ms/step\n",
            "in\n",
            "Enter your line: 0\n",
            "Execution completed.....\n"
          ]
        }
      ],
      "source": [
        "from tensorflow.keras.models import load_model\n",
        "import numpy as np\n",
        "import pickle\n",
        "model = load_model('next_words.h5')\n",
        "tokenizer = pickle.load(open('token.pkl', 'rb'))\n",
        "\n",
        "def Predict_Next_Words(model, tokenizer, text):\n",
        "\n",
        "  sequence = tokenizer.texts_to_sequences([text])\n",
        "  sequence = np.array(sequence)\n",
        "  preds = np.argmax(model.predict(sequence))\n",
        "  predicted_word = \"\"\n",
        "\n",
        "  for key, value in tokenizer.word_index.items():\n",
        "      if value == preds:\n",
        "          predicted_word = key\n",
        "          break\n",
        "\n",
        "  print(predicted_word)\n",
        "  return predicted_word\n",
        "while(True):\n",
        "  text = input(\"Enter your line: \")\n",
        "\n",
        "  if text == \"0\":\n",
        "      print(\"Execution completed.....\")\n",
        "      break\n",
        "\n",
        "  else:\n",
        "      try:\n",
        "          text = text.split(\" \")\n",
        "          text = text[-3:]\n",
        "          print(text)\n",
        "\n",
        "          Predict_Next_Words(model, tokenizer, text)\n",
        "\n",
        "      except Exception as e:\n",
        "        print(\"Error occurred: \",e)\n",
        "        continue"
      ]
    }
  ],
  "metadata": {
    "colab": {
      "provenance": [],
      "gpuType": "T4"
    },
    "kernelspec": {
      "display_name": "Python 3",
      "name": "python3"
    },
    "accelerator": "GPU"
  },
  "nbformat": 4,
  "nbformat_minor": 0
}